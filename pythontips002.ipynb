{
 "cells": [
  {
   "cell_type": "code",
   "execution_count": 30,
   "metadata": {},
   "outputs": [
    {
     "data": {
      "text/plain": [
       "[{'a': 0, 'b': 3, 'd': 5, 'f': 2},\n",
       " {'a': 5, 'b': 1, 'c': 1, 'e': 3},\n",
       " {'a': 2, 'b': 5, 'd': 5, 'f': 1},\n",
       " {'b': 0, 'c': 5, 'f': 5}]"
      ]
     },
     "execution_count": 30,
     "metadata": {},
     "output_type": "execute_result"
    }
   ],
   "source": [
    "#找出多个字典中的公共建\n",
    "\n",
    "#1.生成N个不同的字典\n",
    "\n",
    "from random import randint, sample\n",
    "#sample在前面的迭代对象中随机选择3个元素生成一个列表\n",
    "alldir = [{k:randint(0,5) for k in sample('abcdef',randint(2,4))} for _ in range(4)]\n",
    "alldir"
   ]
  },
  {
   "cell_type": "code",
   "execution_count": 31,
   "metadata": {},
   "outputs": [
    {
     "data": {
      "text/plain": [
       "['b']"
      ]
     },
     "execution_count": 31,
     "metadata": {},
     "output_type": "execute_result"
    }
   ],
   "source": [
    "#solve 1 使用迭代的方式，逐个遍历 查看当前的键值是否在其他的字典中\n",
    "\n",
    "res1 = []\n",
    "\n",
    "for sk in alldir[0]:\n",
    "    skflag = 1\n",
    "    for st in alldir[1:]:\n",
    "        if sk in st:\n",
    "            skflag += 1\n",
    "    if skflag == len(alldir):\n",
    "        res1.append(sk)\n",
    "res1"
   ]
  },
  {
   "cell_type": "code",
   "execution_count": 46,
   "metadata": {},
   "outputs": [
    {
     "data": {
      "text/plain": [
       "{'b'}"
      ]
     },
     "execution_count": 46,
     "metadata": {},
     "output_type": "execute_result"
    }
   ],
   "source": [
    "#solve 2 使用map reduce 的方式\n",
    "\n",
    "from functools import reduce #导入reduce 函数\n",
    "\n",
    "#list(map(dict.keys, alldir))  # map 操作以字典的键为集合的形式\n",
    "\n",
    "reduce(lambda a, b: a & b, map(dict.keys, alldir)) # 传函数的时候传递函数名即可，不需要加括号"
   ]
  },
  {
   "cell_type": "code",
   "execution_count": 47,
   "metadata": {},
   "outputs": [
    {
     "data": {
      "text/plain": [
       "79"
      ]
     },
     "execution_count": 47,
     "metadata": {},
     "output_type": "execute_result"
    }
   ],
   "source": [
    "ad = [randint(-10,20) for _ in range(20)]\n",
    "\n",
    "reduce(lambda a,b : a+b, ad) # reduce 函数"
   ]
  },
  {
   "cell_type": "code",
   "execution_count": 48,
   "metadata": {
    "collapsed": true
   },
   "outputs": [],
   "source": [
    "#让字典保持有序\n",
    "from collections import OrderedDict\n",
    "#按照字典中每一项进入字典的顺序存放"
   ]
  },
  {
   "cell_type": "code",
   "execution_count": 50,
   "metadata": {
    "collapsed": true
   },
   "outputs": [],
   "source": [
    "str.format?"
   ]
  },
  {
   "cell_type": "code",
   "execution_count": 56,
   "metadata": {},
   "outputs": [
    {
     "name": "stdout",
     "output_type": "stream",
     "text": [
      "\n",
      "H\t1\t0.4700\n",
      "\n",
      "G\t2\t0.5340\n",
      "\n",
      "D\t3\t0.7900\n",
      "\n",
      "E\t4\t1.1311\n",
      "\n",
      "F\t5\t1.4721\n",
      "\n",
      "A\t6\t1.8191\n",
      "\n",
      "C\t7\t2.2331\n",
      "\n",
      "B\t8\t2.7332\n",
      "Name\tNum\tTime\n",
      "H\t1\t0.4700\n",
      "G\t2\t0.5340\n",
      "D\t3\t0.7900\n",
      "E\t4\t1.1311\n",
      "F\t5\t1.4721\n",
      "A\t6\t1.8191\n",
      "C\t7\t2.2331\n",
      "B\t8\t2.7332\n"
     ]
    }
   ],
   "source": [
    "#1. 生成一个随机排名的具有名字，序号，时间的字典\n",
    "\n",
    "import time\n",
    "name = list(\"ABCDEFGH\")\n",
    "\n",
    "start = time.time() #记录开始时间\n",
    "\n",
    "datadirct = OrderedDict()\n",
    "\n",
    "initLen = len(name)\n",
    "for i in range(initLen):\n",
    "    input()#使用input阻塞函数，表示不同人的结束时间\n",
    "    p = name.pop(randint(0,initLen - i - 1))#随机选择一个位置的名字\n",
    "    end = time.time()\n",
    "    print(\"%s\\t%d\\t%.4f\" % (p, i+1, end-start))\n",
    "    datadirct[p] = (i+1, end-start)\n",
    "\n",
    "print(\"Name\\tNum\\tTime\")\n",
    "for x in datadirct:\n",
    "    print(\"%s\\t%d\\t%.4f\" % (x, datadirct[x][0], datadirct[x][-1]))\n",
    "\n"
   ]
  },
  {
   "cell_type": "code",
   "execution_count": 58,
   "metadata": {},
   "outputs": [],
   "source": [
    "# python 实现历史记录\n",
    "\n",
    "from collections import deque\n",
    "def guss(N, k):\n",
    "    if k == N:\n",
    "        print(\"Good! Your guss is right\")\n",
    "        return True\n",
    "    else:\n",
    "        if k < N:\n",
    "            print(\"Sorry! Your guss is Samller\")\n",
    "        if k > N:\n",
    "            print(\"Sorry! Your guss is Greater\")\n",
    "        return False\n",
    "    \n",
    "def genN():\n",
    "    return randint(0,100)\n",
    "\n",
    "def runguss():\n",
    "    h = deque([],5)\n",
    "    N = 25\n",
    "    while True:\n",
    "        si  = input()\n",
    "        if si.isdigit():\n",
    "            k = int(si)\n",
    "            h.append(k)\n",
    "            if guss(N,k):\n",
    "                break\n",
    "        if si == \"Change N\":\n",
    "            N = genN()\n",
    "        if si == \"history\" or si == \"h?\":\n",
    "            print(h)\n",
    "        "
   ]
  },
  {
   "cell_type": "code",
   "execution_count": 59,
   "metadata": {},
   "outputs": [
    {
     "name": "stdout",
     "output_type": "stream",
     "text": [
      "1\n",
      "Sorry! Your guss is Samller\n",
      "2\n",
      "Sorry! Your guss is Samller\n",
      "\n",
      "3\n",
      "Sorry! Your guss is Samller\n",
      "4\n",
      "Sorry! Your guss is Samller\n",
      "5\n",
      "Sorry! Your guss is Samller\n",
      "5\n",
      "Sorry! Your guss is Samller\n",
      "Change N\n",
      "25\n",
      "Sorry! Your guss is Samller\n",
      "59\n",
      "Sorry! Your guss is Samller\n",
      "90\n",
      "Sorry! Your guss is Greater\n",
      "48\n",
      "Sorry! Your guss is Samller\n",
      "h?\n",
      "deque([5, 25, 59, 90, 48], maxlen=5)\n",
      "60\n",
      "Sorry! Your guss is Samller\n",
      "70\n",
      "Sorry! Your guss is Samller\n",
      "80\n",
      "Sorry! Your guss is Samller\n",
      "85\n",
      "Sorry! Your guss is Samller\n",
      "87\n",
      "Sorry! Your guss is Samller\n",
      "88\n",
      "Good! Your guss is right\n"
     ]
    }
   ],
   "source": [
    "runguss()"
   ]
  },
  {
   "cell_type": "code",
   "execution_count": null,
   "metadata": {
    "collapsed": true
   },
   "outputs": [],
   "source": []
  },
  {
   "cell_type": "code",
   "execution_count": null,
   "metadata": {
    "collapsed": true
   },
   "outputs": [],
   "source": []
  }
 ],
 "metadata": {
  "kernelspec": {
   "display_name": "Python 3",
   "language": "python",
   "name": "python3"
  },
  "language_info": {
   "codemirror_mode": {
    "name": "ipython",
    "version": 3
   },
   "file_extension": ".py",
   "mimetype": "text/x-python",
   "name": "python",
   "nbconvert_exporter": "python",
   "pygments_lexer": "ipython3",
   "version": "3.6.3"
  }
 },
 "nbformat": 4,
 "nbformat_minor": 2
}
