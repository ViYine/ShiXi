{
 "cells": [
  {
   "cell_type": "code",
   "execution_count": 6,
   "metadata": {},
   "outputs": [],
   "source": [
    "from random import randint\n",
    "\n",
    "data = [randint(-10,10) for x in range(20)]"
   ]
  },
  {
   "cell_type": "code",
   "execution_count": 7,
   "metadata": {},
   "outputs": [
    {
     "data": {
      "text/plain": [
       "[-9, -4, 1, 6, -4, 7, 7, 5, -9, -4, -3, -8, 10, -9, -9, -2, -5, -2, 1, -4]"
      ]
     },
     "execution_count": 7,
     "metadata": {},
     "output_type": "execute_result"
    }
   ],
   "source": [
    "data"
   ]
  },
  {
   "cell_type": "code",
   "execution_count": 10,
   "metadata": {},
   "outputs": [
    {
     "data": {
      "text/plain": [
       "[1, 6, 7, 7, 5, 10, 1]"
      ]
     },
     "execution_count": 10,
     "metadata": {},
     "output_type": "execute_result"
    }
   ],
   "source": [
    "list(filter(lambda x : x >= 0, data))# 过滤出列表中满足条件的元素"
   ]
  },
  {
   "cell_type": "code",
   "execution_count": 11,
   "metadata": {},
   "outputs": [
    {
     "data": {
      "text/plain": [
       "[1, 6, 7, 7, 5, 10, 1]"
      ]
     },
     "execution_count": 11,
     "metadata": {},
     "output_type": "execute_result"
    }
   ],
   "source": [
    "[x for x in data if x>= 0] #列表解析的形式进行过滤"
   ]
  },
  {
   "cell_type": "code",
   "execution_count": 21,
   "metadata": {},
   "outputs": [],
   "source": [
    "score ={k:randint(60,100)  for k in range(20)}"
   ]
  },
  {
   "cell_type": "code",
   "execution_count": 22,
   "metadata": {},
   "outputs": [
    {
     "data": {
      "text/plain": [
       "{0: 99, 2: 98, 5: 92, 8: 96, 11: 99, 13: 98, 16: 92, 17: 100, 18: 94}"
      ]
     },
     "execution_count": 22,
     "metadata": {},
     "output_type": "execute_result"
    }
   ],
   "source": [
    "{k:v for k,v in score.items() if v > 90} # 字典解析的方式"
   ]
  },
  {
   "cell_type": "code",
   "execution_count": 29,
   "metadata": {},
   "outputs": [
    {
     "data": {
      "text/plain": [
       "'Jim'"
      ]
     },
     "execution_count": 29,
     "metadata": {},
     "output_type": "execute_result"
    }
   ],
   "source": [
    "# 枚举 列名字 是元祖的索引访问更具有可读性\n",
    "Name, Age, Email = (x for x in range(3))\n",
    "\n",
    "s = (\"Jim\", 22, \"goole@123\")\n",
    "\n",
    "s[Name]"
   ]
  },
  {
   "cell_type": "markdown",
   "metadata": {},
   "source": [
    "# 使用 nametuple的方式创建工厂类"
   ]
  },
  {
   "cell_type": "code",
   "execution_count": 42,
   "metadata": {},
   "outputs": [
    {
     "data": {
      "text/plain": [
       "24"
      ]
     },
     "execution_count": 42,
     "metadata": {},
     "output_type": "execute_result"
    }
   ],
   "source": [
    "from collections import namedtuple\n",
    "\n",
    "st = namedtuple(\"Student\", [\"Name\", \"Age\", \"Email\"])\n",
    "\n",
    "s1  = st(\"Jim\", 24, \"hello@hi\")\n",
    "s1.Age\n"
   ]
  },
  {
   "cell_type": "markdown",
   "metadata": {},
   "source": [
    " # 列表字数统计"
   ]
  },
  {
   "cell_type": "code",
   "execution_count": 44,
   "metadata": {
    "collapsed": true
   },
   "outputs": [],
   "source": [
    "dc = [randint(1,10) for _ in range(20)]"
   ]
  },
  {
   "cell_type": "code",
   "execution_count": 50,
   "metadata": {},
   "outputs": [
    {
     "data": {
      "text/plain": [
       "{1: 2, 2: 1, 3: 2, 5: 4, 6: 3, 7: 3, 8: 1, 9: 2, 10: 2}"
      ]
     },
     "execution_count": 50,
     "metadata": {},
     "output_type": "execute_result"
    }
   ],
   "source": [
    "# 迭代自己统计的方式\n",
    "\n",
    "dc1 = {k:0 for k in dc}\n",
    "for x in dc:\n",
    "    dc1[x] += 1\n",
    "dc1"
   ]
  },
  {
   "cell_type": "code",
   "execution_count": 57,
   "metadata": {},
   "outputs": [
    {
     "data": {
      "text/plain": [
       "[(5, 4), (7, 3), (6, 3)]"
      ]
     },
     "execution_count": 57,
     "metadata": {},
     "output_type": "execute_result"
    }
   ],
   "source": [
    "#排序选出出现次数最多的3个\n",
    "\n",
    "sorted(dc1.items(), key= lambda x: x[-1])[::-1][:3]"
   ]
  },
  {
   "cell_type": "code",
   "execution_count": 60,
   "metadata": {},
   "outputs": [
    {
     "data": {
      "text/plain": [
       "[(5, 4), (6, 3), (7, 3)]"
      ]
     },
     "execution_count": 60,
     "metadata": {},
     "output_type": "execute_result"
    }
   ],
   "source": [
    "#使用counter类\n",
    "\n",
    "from collections import Counter\n",
    "\n",
    "cd2 = Counter(dc)\n",
    "\n",
    "cd2.most_common(3)"
   ]
  },
  {
   "cell_type": "code",
   "execution_count": 65,
   "metadata": {},
   "outputs": [
    {
     "data": {
      "text/plain": [
       "[('the', 155),\n",
       " ('of', 98),\n",
       " ('BibTeX', 91),\n",
       " ('to', 90),\n",
       " ('and', 88),\n",
       " ('bit', 78),\n",
       " ('for', 71),\n",
       " ('8', 69),\n",
       " ('is', 67),\n",
       " ('000', 64)]"
      ]
     },
     "execution_count": 65,
     "metadata": {},
     "output_type": "execute_result"
    }
   ],
   "source": [
    "# 使用counter类统计出文本中出现次数最多的10个元素\n",
    "\n",
    "txtdata = open('./file.txt').read()\n",
    "\n",
    "import re\n",
    "\n",
    "txtlist = re.split('\\W+', txtdata) #使用非字母的字符对文件内容进行分割\n",
    "\n",
    "txtCounter = Counter(txtlist)\n",
    "\n",
    "txtCounter.most_common(10)"
   ]
  },
  {
   "cell_type": "code",
   "execution_count": null,
   "metadata": {},
   "outputs": [],
   "source": []
  },
  {
   "cell_type": "code",
   "execution_count": null,
   "metadata": {
    "collapsed": true
   },
   "outputs": [],
   "source": []
  }
 ],
 "metadata": {
  "kernelspec": {
   "display_name": "Python 3",
   "language": "python",
   "name": "python3"
  },
  "language_info": {
   "codemirror_mode": {
    "name": "ipython",
    "version": 3
   },
   "file_extension": ".py",
   "mimetype": "text/x-python",
   "name": "python",
   "nbconvert_exporter": "python",
   "pygments_lexer": "ipython3",
   "version": "3.6.3"
  }
 },
 "nbformat": 4,
 "nbformat_minor": 2
}
