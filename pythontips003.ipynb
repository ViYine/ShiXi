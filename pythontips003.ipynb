{
 "cells": [
  {
   "cell_type": "code",
   "execution_count": 1,
   "metadata": {
    "collapsed": true
   },
   "outputs": [],
   "source": [
    "#迭代对象和迭代器对象\n",
    "#迭代器对象有next方法\n",
    "#迭代对象有__iter__ 接口\n",
    "\n",
    "l = [1, 3, 4 , 5, 6]"
   ]
  },
  {
   "cell_type": "markdown",
   "metadata": {},
   "source": [
    "![Iter](./image/iter.png)"
   ]
  },
  {
   "cell_type": "code",
   "execution_count": 21,
   "metadata": {
    "collapsed": true
   },
   "outputs": [],
   "source": [
    "import requests\n",
    "from random import randint\n",
    "\n",
    "\n",
    "from collections import Iterator, Iterable\n",
    "\n",
    "\n",
    "class WeatherIter(Iterator):\n",
    "    def __init__(self, citys):\n",
    "        '''初始化迭代器对象，需要传入一个序列并初始化序列访问的索引\n",
    "        '''\n",
    "        self.citys = citys\n",
    "        self.index = 0\n",
    "    def getWeather(self,city):\n",
    "        #r = requests.get(u'http://www.weather.com.cn/weather1d/101200101.shtml#input')\n",
    "        #print(r.body())\n",
    "        #data = r.json()['data']['forecast'][0]\n",
    "        #return '%s:, %s , %s ' % (city, data['low'], data['high'])\n",
    "        return city + \" ##\"+str(randint(0,10))\n",
    "    def __next__(self):\n",
    "        '''实现迭代器对象的next方法，每次返回一个值，同时如果结束抛出停止迭代的异常\n",
    "        '''\n",
    "        if self.index == len(self.citys):\n",
    "            raise StopIteration\n",
    "        else :\n",
    "            rcity = self.getWeather(self.citys[self.index])\n",
    "            self.index += 1\n",
    "            return rcity\n",
    "        \n",
    "class WeatherIterAble(Iterable):\n",
    "    def __init__(self, citys):\n",
    "        self.citys = citys\n",
    "    def __iter__(self):\n",
    "        '''可迭代对象的__iter__方法需要返回一个迭代器对象\n",
    "        '''\n",
    "        return WeatherIter(self.citys)"
   ]
  },
  {
   "cell_type": "code",
   "execution_count": 22,
   "metadata": {},
   "outputs": [
    {
     "name": "stdout",
     "output_type": "stream",
     "text": [
      "dd ##3\n",
      "lem ##9\n",
      "dll ##0\n",
      "kdk ##9\n"
     ]
    }
   ],
   "source": [
    "citys  = ['dd', 'lem', 'dll', 'kdk']\n",
    "\n",
    "cw = WeatherIterAble(citys)\n",
    "\n",
    "for c in cw:\n",
    "    print(c)"
   ]
  },
  {
   "cell_type": "markdown",
   "metadata": {},
   "source": [
    "# 使用生成器函数生成迭代器对象\n",
    "\n",
    "![生成器](./image/iter01.png)"
   ]
  },
  {
   "cell_type": "code",
   "execution_count": 24,
   "metadata": {
    "collapsed": true
   },
   "outputs": [],
   "source": [
    "class PrimeNumber():\n",
    "    def __init__(self, start, end):\n",
    "        '''初始化类，标定其左边范围和右边范围，闭区间\n",
    "        '''\n",
    "        self.start =  start\n",
    "        self.end = end\n",
    "    def isPrime(self, k):\n",
    "        '''判读一个数为素数的简单算法\n",
    "        '''\n",
    "        if k < 2:\n",
    "            return False\n",
    "        for i in range(2, k):\n",
    "            if k % i == 0:\n",
    "                return False\n",
    "        return True\n",
    "    def __iter__(self):\n",
    "        '''使用yield生成器函数返回一个素数\n",
    "        '''\n",
    "        for x in range(self.start, self.end + 1):\n",
    "            if self.isPrime(x):\n",
    "                yield(x)"
   ]
  },
  {
   "cell_type": "code",
   "execution_count": 41,
   "metadata": {},
   "outputs": [
    {
     "name": "stdout",
     "output_type": "stream",
     "text": [
      "2\t3\t5\t7\t11\t13\t17\t19\t23\t29\t31\t37\t41\t43\t47\t53\t59\t61\t67\t71\t73\t79\t83\t89\t97\t101\t103\t107\t109\t113\t"
     ]
    }
   ],
   "source": [
    "for x in PrimeNumber(0,120):\n",
    "    print(x, end='\\t')"
   ]
  },
  {
   "cell_type": "markdown",
   "metadata": {},
   "source": [
    "# 实现反向迭代器\n",
    "![反向迭代](./image/Riter.png)"
   ]
  },
  {
   "cell_type": "code",
   "execution_count": 28,
   "metadata": {
    "collapsed": true
   },
   "outputs": [],
   "source": [
    "class FloatRange():\n",
    "    def __init__(self, start, end, step = 0.1):\n",
    "        '''初始化函数生成范围的左边起点和右边终点，左闭右开\n",
    "        '''\n",
    "        self.start = start\n",
    "        self.end =  end\n",
    "        self.step = step\n",
    "    \n",
    "    def __iter__(self):\n",
    "        '''使用生成器函数实现__iter__方法\n",
    "        '''\n",
    "        t = self.start\n",
    "        while t < self.end:\n",
    "            yield(t)\n",
    "            t += self.step\n",
    "        \n",
    "    def __reversed__(self):\n",
    "        '''反向使用生成器函数实现__reversed__方法\n",
    "        '''\n",
    "        t = self.end\n",
    "        while t >= self.start:\n",
    "            t -= self.step\n",
    "            yield(t)\n",
    "            "
   ]
  },
  {
   "cell_type": "code",
   "execution_count": 42,
   "metadata": {},
   "outputs": [
    {
     "name": "stdout",
     "output_type": "stream",
     "text": [
      "2\t2.1\t2.2\t2.3000000000000003\t2.4000000000000004\t2.5000000000000004\t2.6000000000000005\t2.7000000000000006\t2.8000000000000007\t2.900000000000001\t"
     ]
    }
   ],
   "source": [
    "for x in FloatRange(2, 3, 0.1):\n",
    "    print(x,end='\\t')"
   ]
  },
  {
   "cell_type": "code",
   "execution_count": 43,
   "metadata": {},
   "outputs": [
    {
     "name": "stdout",
     "output_type": "stream",
     "text": [
      "2.9\t2.8\t2.6999999999999997\t2.5999999999999996\t2.4999999999999996\t2.3999999999999995\t2.2999999999999994\t2.1999999999999993\t2.099999999999999\t1.9999999999999991\t"
     ]
    }
   ],
   "source": [
    "for x in reversed(FloatRange(2, 3, 0.1)): \n",
    "    print(x, end='\\t')"
   ]
  },
  {
   "cell_type": "markdown",
   "metadata": {},
   "source": [
    "# 在for语句中同时迭代多个可迭代对象\n",
    "\n",
    "![多个可迭代](./image/Miter.png)"
   ]
  },
  {
   "cell_type": "code",
   "execution_count": 37,
   "metadata": {},
   "outputs": [
    {
     "name": "stdout",
     "output_type": "stream",
     "text": [
      "[216, 217, 181, 249, 213, 231, 210, 234, 239, 196, 203, 187, 206, 181, 244, 188, 227, 229, 201, 203, 228, 177, 254, 241, 222, 236, 239, 165, 206, 204, 258, 197, 240, 225, 234, 250, 247, 214, 211, 231]\n"
     ]
    }
   ],
   "source": [
    "# 并行迭代的方式\n",
    "c = [randint(50,100) for _ in range(40)]\n",
    "m = [randint(50,100) for _ in range(40)]\n",
    "e = [randint(50,100) for _ in range(40)]\n",
    "\n",
    "total = [x + y + z for x,y,z in zip(c,m,e)]\n",
    "print(total)"
   ]
  },
  {
   "cell_type": "code",
   "execution_count": 40,
   "metadata": {},
   "outputs": [
    {
     "name": "stdout",
     "output_type": "stream",
     "text": [
      "34\n"
     ]
    }
   ],
   "source": [
    "# 串行迭代的方式 \n",
    "import itertools\n",
    "\n",
    "e1 = [randint(50,100) for _ in range(35)]\n",
    "e2 = [randint(50,100) for _ in range(36)]\n",
    "e3 = [randint(50,100) for _ in range(37)]\n",
    "e4 = [randint(50,100) for _ in range(38)]\n",
    "\n",
    "count = 0\n",
    "for x in itertools.chain(e1, e2, e3, e4):\n",
    "    if x >= 90:\n",
    "        count += 1\n",
    "\n",
    "print(count)"
   ]
  },
  {
   "cell_type": "code",
   "execution_count": null,
   "metadata": {
    "collapsed": true
   },
   "outputs": [],
   "source": []
  }
 ],
 "metadata": {
  "kernelspec": {
   "display_name": "Python 3",
   "language": "python",
   "name": "python3"
  },
  "language_info": {
   "codemirror_mode": {
    "name": "ipython",
    "version": 3
   },
   "file_extension": ".py",
   "mimetype": "text/x-python",
   "name": "python",
   "nbconvert_exporter": "python",
   "pygments_lexer": "ipython3",
   "version": "3.6.3"
  }
 },
 "nbformat": 4,
 "nbformat_minor": 2
}
